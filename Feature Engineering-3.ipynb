{
 "cells": [
  {
   "cell_type": "markdown",
   "id": "4eb2ae9d-0a0e-49b2-b096-287871559e0a",
   "metadata": {},
   "source": [
    "# Q1. What is Min-Max scaling, and how is it used in data preprocessing? Provide an example to illustrate its application.\n",
    "\n",
    "Min-Max scaling is a normalization technique that scales the data to a fixed range, typically [0, 1] or [-1, 1]. It is used to ensure that all features contribute equally to the model and to improve the convergence rate of some machine learning algorithms. \n",
    "\n",
    "Example:\n",
    "If we have a dataset with values [10, 20, 30, 40, 50] and we want to scale it to a range of [0, 1], the formula is:\n",
    "X_scaled = (X - X_min) / (X_max - X_min)\n"
   ]
  },
  {
   "cell_type": "markdown",
   "id": "a61df68a-8659-425c-9531-f2560317a77e",
   "metadata": {},
   "source": [
    "# Q2. What is the Unit Vector technique in feature scaling, and how does it differ from Min-Max scaling? Provide an example to illustrate its application.\n",
    "\n",
    "The Unit Vector technique scales the feature vector to have a length of 1. This is different from Min-Max scaling, which scales each feature individually to a specific range.\n",
    "\n",
    "Example:\n",
    "If we have a vector [1, 2, 3], the unit vector is calculated as:\n",
    "X_scaled = X / ||X||\n",
    "where ||X|| is the Euclidean norm of X.\n"
   ]
  },
  {
   "cell_type": "markdown",
   "id": "2c75eb80-b456-4a73-ae04-4b818c337292",
   "metadata": {},
   "source": [
    "# Q3. What is PCA (Principal Component Analysis), and how is it used in dimensionality reduction? Provide an example to illustrate its application.\n",
    "\n",
    "PCA is a statistical technique used to emphasize variation and capture strong patterns in a dataset. It is used in dimensionality reduction by transforming the data into a set of orthogonal components that capture the maximum variance.\n",
    "\n",
    "Example:\n",
    "Consider a dataset with features [x1, x2, x3]. PCA will find new features [PC1, PC2, PC3] such that PC1 captures the most variance, PC2 the second most, and so on.\n"
   ]
  },
  {
   "cell_type": "markdown",
   "id": "8ae48d29-f499-479d-ae4c-d79949b2a9ee",
   "metadata": {},
   "source": [
    "# Q4. What is the relationship between PCA and Feature Extraction, and how can PCA be used for Feature Extraction? Provide an example to illustrate this concept.\n",
    "\n",
    "PCA is a form of feature extraction where original features are transformed into a smaller set of new features that still capture most of the information. PCA can be used to reduce dimensionality while retaining significant information.\n",
    "\n",
    "Example:\n",
    "If we have a dataset with 100 features, PCA can reduce this to 10 principal components that still capture the majority of the variance.\n"
   ]
  },
  {
   "cell_type": "markdown",
   "id": "be42f3ca-c151-421a-9797-faa7847d749f",
   "metadata": {},
   "source": [
    "# Q5. You are working on a project to build a recommendation system for a food delivery service. The dataset contains features such as price, rating, and delivery time. Explain how you would use Min-Max scaling to preprocess the data.\n",
    "\n",
    "To preprocess the data using Min-Max scaling, we would scale each feature to the range [0, 1]. This ensures that price, rating, and delivery time contribute equally to the model.\n",
    "\n",
    "Example:\n",
    "price_scaled = (price - price_min) / (price_max - price_min)\n",
    "rating_scaled = (rating - rating_min) / (rating_max - rating_min)\n",
    "delivery_time_scaled = (delivery_time - delivery_time_min) / (delivery_time_max - delivery_time_min)\n"
   ]
  },
  {
   "cell_type": "markdown",
   "id": "88a9461a-b9c9-4177-87e8-31526d1f815e",
   "metadata": {},
   "source": [
    "# Q6. You are working on a project to build a model to predict stock prices. The dataset contains many features, such as company financial data and market trends. Explain how you would use PCA to reduce the dimensionality of the dataset.\n",
    "\n",
    "To reduce dimensionality using PCA, we would first standardize the features, then apply PCA to transform the data into a set of principal components. We would select the number of principal components that capture the majority of the variance in the dataset.\n",
    "\n",
    "Example:\n",
    "pca = PCA(n_components=0.95)\n",
    "X_reduced = pca.fit_transform(X)\n",
    "This retains 95% of the variance in the data.\n"
   ]
  },
  {
   "cell_type": "markdown",
   "id": "c002d234-377c-4a36-a587-cd244bddad8b",
   "metadata": {},
   "source": [
    "# Q7. For a dataset containing the following values: [1, 5, 10, 15, 20], perform Min-Max scaling to transform the values to a range of -1 to 1.\n",
    "\n"
   ]
  },
  {
   "cell_type": "code",
   "execution_count": 1,
   "id": "822a00e1-26d5-4248-b1ff-d5444c4964ec",
   "metadata": {},
   "outputs": [
    {
     "name": "stdout",
     "output_type": "stream",
     "text": [
      "[-1.         -0.57894737 -0.05263158  0.47368421  1.        ]\n"
     ]
    }
   ],
   "source": [
    "import numpy as np\n",
    "\n",
    "data = np.array([1, 5, 10, 15, 20])\n",
    "data_min = np.min(data)\n",
    "data_max = np.max(data)\n",
    "\n",
    "data_scaled = 2 * (data - data_min) / (data_max - data_min) - 1\n",
    "print(data_scaled)\n"
   ]
  },
  {
   "cell_type": "markdown",
   "id": "aa3a31a1-81ea-4c7f-8629-d02f2c834d0d",
   "metadata": {},
   "source": [
    "# Q8. For a dataset containing the following features: [height, weight, age, gender, blood pressure], perform Feature Extraction using PCA. How many principal components would you choose to retain, and why?\n",
    "\n",
    "To determine the number of principal components to retain, we would perform PCA and look at the explained variance ratio. We would retain enough components to capture a high percentage of the variance, typically 95%.\n",
    "\n",
    "pca = PCA()\n",
    "pca.fit(X)\n",
    "explained_variance = np.cumsum(pca.explained_variance_ratio_)\n",
    "n_components = np.where(explained_variance >= 0.95)[0][0] + 1\n",
    "\n"
   ]
  },
  {
   "cell_type": "code",
   "execution_count": null,
   "id": "8d897ae9-9ca6-4d5f-9963-146674235d90",
   "metadata": {},
   "outputs": [],
   "source": []
  }
 ],
 "metadata": {
  "kernelspec": {
   "display_name": "Python 3 (ipykernel)",
   "language": "python",
   "name": "python3"
  },
  "language_info": {
   "codemirror_mode": {
    "name": "ipython",
    "version": 3
   },
   "file_extension": ".py",
   "mimetype": "text/x-python",
   "name": "python",
   "nbconvert_exporter": "python",
   "pygments_lexer": "ipython3",
   "version": "3.10.8"
  }
 },
 "nbformat": 4,
 "nbformat_minor": 5
}
